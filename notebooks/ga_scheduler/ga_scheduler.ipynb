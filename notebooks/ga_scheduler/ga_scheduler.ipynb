{
 "cells": [
  {
   "cell_type": "code",
   "id": "initial_id",
   "metadata": {
    "collapsed": true,
    "ExecuteTime": {
     "end_time": "2025-03-24T09:47:35.434351Z",
     "start_time": "2025-03-24T09:47:35.428156Z"
    }
   },
   "source": [
    "\n",
    "products = {\n",
    "    \"p1\" : {\"seq_length\" : 16, \"index\" : 0, \"starttime\" : -1, \"duration\" : 50 },\n",
    "    \"p2\" : {\"seq_length\" : 14, \"index\" : 1, \"starttime\" : -1, \"duration\" : 50 },\n",
    "}\n",
    "\n",
    "prod_list = [\"p1\", \"p2\", \"p2\"]\n",
    "\n",
    "num_casters = 2\n",
    "\n",
    "num_heats = sum([products[prod][\"seq_length\"] for prod in prod_list])\n",
    "\n",
    "num_heats"
   ],
   "outputs": [
    {
     "data": {
      "text/plain": [
       "48"
      ]
     },
     "execution_count": 5,
     "metadata": {},
     "output_type": "execute_result"
    }
   ],
   "execution_count": 5
  },
  {
   "metadata": {
    "jupyter": {
     "is_executing": true
    },
    "ExecuteTime": {
     "start_time": "2025-03-24T10:41:38.346744Z"
    }
   },
   "cell_type": "code",
   "source": [
    "import random\n",
    "from deap import base, creator, tools\n",
    "\n",
    "# Define problem as a minimization (negative fitness)\n",
    "creator.create(\"FitnessMin\", base.Fitness, weights=(-1.0,))\n",
    "creator.create(\"Individual\", list, fitness=creator.FitnessMin)\n",
    "\n",
    "# Initialize population\n",
    "def init_individual():\n",
    "    return random.sample(range(10), 10)  # Random job order\n",
    "\n",
    "toolbox = base.Toolbox()\n",
    "toolbox.register(\"individual\", tools.initIterate, creator.Individual, init_individual)\n",
    "toolbox.register(\"population\", tools.initRepeat, list, toolbox.individual)\n",
    "\n",
    "# Fitness function (simple makespan)\n",
    "def evaluate(ind):\n",
    "    return sum(ind),  # Returning as tuple\n",
    "\n",
    "toolbox.register(\"evaluate\", evaluate)\n",
    "toolbox.register(\"mate\", tools.cxTwoPoint)\n",
    "toolbox.register(\"mutate\", tools.mutShuffleIndexes, indpb=0.2)\n",
    "toolbox.register(\"select\", tools.selTournament, tournsize=3)\n",
    "\n",
    "# Run Genetic Algorithm\n",
    "population = toolbox.population(n=50)\n",
    "for gen in range(100):  # 100 generations\n",
    "    offspring = toolbox.select(population, len(population))\n",
    "    offspring = list(map(toolbox.clone, offspring))\n",
    "\n",
    "    # Crossover & Mutation\n",
    "    for child1, child2 in zip(offspring[::2], offspring[1::2]):\n",
    "        if random.random() < 0.7:  # 70% crossover chance\n",
    "            toolbox.mate(child1, child2)\n",
    "        if random.random() < 0.2:  # 20% mutation chance\n",
    "            toolbox.mutate(child1)\n",
    "            toolbox.mutate(child2)\n",
    "\n",
    "    # Evaluate fitness\n",
    "    for ind in offspring:\n",
    "        ind.fitness.values = toolbox.evaluate(ind)\n",
    "\n",
    "    population[:] = offspring\n",
    "\n",
    "# Best solution\n",
    "best_schedule = tools.selBest(population, 1)[0]\n",
    "print(\"Optimal Job Sequence:\", best_schedule)"
   ],
   "id": "7fb1a2cfb270ed13",
   "outputs": [
    {
     "name": "stderr",
     "output_type": "stream",
     "text": [
      "C:\\Users\\kevma\\anaconda3\\envs\\gymProject\\Lib\\site-packages\\deap\\creator.py:185: RuntimeWarning: A class named 'FitnessMin' has already been created and it will be overwritten. Consider deleting previous creation of that class or rename it.\n",
      "  warnings.warn(\"A class named '{0}' has already been created and it \"\n",
      "C:\\Users\\kevma\\anaconda3\\envs\\gymProject\\Lib\\site-packages\\deap\\creator.py:185: RuntimeWarning: A class named 'Individual' has already been created and it will be overwritten. Consider deleting previous creation of that class or rename it.\n",
      "  warnings.warn(\"A class named '{0}' has already been created and it \"\n"
     ]
    }
   ],
   "execution_count": null
  }
 ],
 "metadata": {
  "kernelspec": {
   "display_name": "Python 3",
   "language": "python",
   "name": "python3"
  },
  "language_info": {
   "codemirror_mode": {
    "name": "ipython",
    "version": 2
   },
   "file_extension": ".py",
   "mimetype": "text/x-python",
   "name": "python",
   "nbconvert_exporter": "python",
   "pygments_lexer": "ipython2",
   "version": "2.7.6"
  }
 },
 "nbformat": 4,
 "nbformat_minor": 5
}
